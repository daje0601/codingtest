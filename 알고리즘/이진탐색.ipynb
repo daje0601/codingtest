{
  "nbformat": 4,
  "nbformat_minor": 0,
  "metadata": {
    "colab": {
      "name": "이진탐색.ipynb",
      "provenance": [],
      "authorship_tag": "ABX9TyNFaZFyUWkitz21597JkgNx",
      "include_colab_link": true
    },
    "kernelspec": {
      "name": "python3",
      "display_name": "Python 3"
    },
    "language_info": {
      "name": "python"
    }
  },
  "cells": [
    {
      "cell_type": "markdown",
      "metadata": {
        "id": "view-in-github",
        "colab_type": "text"
      },
      "source": [
        "<a href=\"https://colab.research.google.com/github/daje0601/codingtest/blob/main/%EC%9D%B4%EC%A7%84%ED%83%90%EC%83%89.ipynb\" target=\"_parent\"><img src=\"https://colab.research.google.com/assets/colab-badge.svg\" alt=\"Open In Colab\"/></a>"
      ]
    },
    {
      "cell_type": "markdown",
      "metadata": {
        "id": "NhwlEXVjUWWL"
      },
      "source": [
        "### 1. 재귀함수를 이용한 이진탐색\n"
      ]
    },
    {
      "cell_type": "code",
      "metadata": {
        "colab": {
          "base_uri": "https://localhost:8080/"
        },
        "id": "F6BOI1v7UTKz",
        "outputId": "5eca27f2-7308-450d-d41a-add5ba51ec67"
      },
      "source": [
        "def binary_search(element, some_list, start_index=0, end_index=None):\n",
        "    # end_index가 따로 주어지지 않은 경우에는 리스트의 마지막 인덱스\n",
        "    if end_index == None:\n",
        "        end_index = len(some_list) - 1\n",
        "    \n",
        "    if start_index > end_index:\n",
        "        return None\n",
        "        \n",
        "    middle_index = (start_index+end_index) // 2\n",
        "    if element == some_list[middle_index]:\n",
        "        return middle_index\n",
        "    if element > some_list[middle_index]: \n",
        "        \n",
        "        return binary_search(element, some_list, middle_index+1, end_index)\n",
        "    else:\n",
        "        \n",
        "        return binary_search(element, some_list, start_index, middle_index-1)\n",
        "\n",
        "\n",
        "print(binary_search(2, [2, 3, 5, 7, 11]))\n",
        "print(binary_search(0, [2, 3, 5, 7, 11]))\n",
        "print(binary_search(5, [2, 3, 5, 7, 11]))\n",
        "print(binary_search(3, [2, 3, 5, 7, 11]))\n",
        "print(binary_search(11, [2, 3, 5, 7, 11]))"
      ],
      "execution_count": 1,
      "outputs": [
        {
          "output_type": "stream",
          "text": [
            "0\n",
            "None\n",
            "2\n",
            "1\n",
            "4\n"
          ],
          "name": "stdout"
        }
      ]
    },
    {
      "cell_type": "code",
      "metadata": {
        "id": "2CTd_LAWUchA"
      },
      "source": [
        ""
      ],
      "execution_count": null,
      "outputs": []
    }
  ]
}