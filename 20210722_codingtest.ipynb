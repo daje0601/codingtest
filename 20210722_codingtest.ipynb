{
  "nbformat": 4,
  "nbformat_minor": 0,
  "metadata": {
    "colab": {
      "name": "20210722_isdigit, key=lambda log sort.ipynb",
      "provenance": [],
      "authorship_tag": "ABX9TyNgtGl7Yz2meYJ/7YI2BMhV",
      "include_colab_link": true
    },
    "kernelspec": {
      "name": "python3",
      "display_name": "Python 3"
    },
    "language_info": {
      "name": "python"
    }
  },
  "cells": [
    {
      "cell_type": "markdown",
      "metadata": {
        "id": "view-in-github",
        "colab_type": "text"
      },
      "source": [
        "<a href=\"https://colab.research.google.com/github/daje0601/codingtest/blob/main/20210722_codingtest.ipynb\" target=\"_parent\"><img src=\"https://colab.research.google.com/assets/colab-badge.svg\" alt=\"Open In Colab\"/></a>"
      ]
    },
    {
      "cell_type": "code",
      "metadata": {
        "id": "BJB0yuRf2AIS"
      },
      "source": [
        "logs = [\"dig1 8 1 5 1\",\"let1 art can\",\"dig2 3 6\",\"let2 own kit dig\",\"let3 art zero\"]\n",
        "\n",
        "# 문제에서 요구하는 점이 식별자를 제외한 나머지 문자열 기준으로 정렬하는 것이다. \n",
        "# 이때 숫자가 들어가 있는 것은 기존에 입력받은 그대로 두라고 했으니, 문자와 숫자를 구분한 뒤 그냥 둔다.\n",
        "# 여기서 숫자를 찾는데 유용한 함수가 있는데 그것은 바로 isdigit 함수 이다. \n",
        "# str type 이더라도 숫자를 찾을 수 있다. \n",
        "def logsort(logs):\n",
        "  digits = []\n",
        "  letters = []\n",
        "  for log in logs:\n",
        "    if log.split()[1].isdigit():\n",
        "      digits.append(log)\n",
        "    else:\n",
        "      letters.append(log)\n",
        "\n",
        "  # 문자열의 경우, 식별자를 제외한 그 다음 문자열로 정렬을 하라고 했으니 비교하는 코드가 한줄 필요하다. \n",
        "  # 람다를 이용하여 sort를 할 경우, 반드시 무엇을 기준으로 정렬을 할 것인지 key를 전달해주어야 한다. \n",
        "  # 또한, 여러개의 규칙을 적용할 수 있는데, 이때는 반드시 규칙들을 ( )로 감싸주어야한다. \n",
        "  letters.sort(key=lambda x: (x.split()[1:], x.split()[0]))\n",
        "  return letters+digits"
      ],
      "execution_count": 10,
      "outputs": []
    },
    {
      "cell_type": "code",
      "metadata": {
        "colab": {
          "base_uri": "https://localhost:8080/"
        },
        "id": "YI5-KbQI2NVi",
        "outputId": "cef3947f-4a98-4987-fdbb-51d9c2795f78"
      },
      "source": [
        "logsort(logs)"
      ],
      "execution_count": 11,
      "outputs": [
        {
          "output_type": "execute_result",
          "data": {
            "text/plain": [
              "['let1 art can',\n",
              " 'let3 art zero',\n",
              " 'let2 own kit dig',\n",
              " 'dig1 8 1 5 1',\n",
              " 'dig2 3 6']"
            ]
          },
          "metadata": {
            "tags": []
          },
          "execution_count": 11
        }
      ]
    },
    {
      "cell_type": "code",
      "metadata": {
        "id": "gEwbMp1a45b9"
      },
      "source": [
        ""
      ],
      "execution_count": null,
      "outputs": []
    }
  ]
}