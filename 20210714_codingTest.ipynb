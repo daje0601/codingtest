{
  "nbformat": 4,
  "nbformat_minor": 0,
  "metadata": {
    "colab": {
      "name": "20210714_codingTest.ipynb",
      "provenance": [],
      "authorship_tag": "ABX9TyOhxBjQ+K1GBQiOzDHQ5tcl",
      "include_colab_link": true
    },
    "kernelspec": {
      "name": "python3",
      "display_name": "Python 3"
    },
    "language_info": {
      "name": "python"
    }
  },
  "cells": [
    {
      "cell_type": "markdown",
      "metadata": {
        "id": "view-in-github",
        "colab_type": "text"
      },
      "source": [
        "<a href=\"https://colab.research.google.com/github/daje0601/codingtest/blob/main/20210714_codingTest.ipynb\" target=\"_parent\"><img src=\"https://colab.research.google.com/assets/colab-badge.svg\" alt=\"Open In Colab\"/></a>"
      ]
    },
    {
      "cell_type": "markdown",
      "metadata": {
        "id": "TyYLIFjykWYv"
      },
      "source": [
        "### 풀이1 실행시간 : 304ms"
      ]
    },
    {
      "cell_type": "code",
      "metadata": {
        "id": "Bk74amnXhZCT"
      },
      "source": [
        "def is_palindrome(s: str) -> bool:\n",
        "  str_list = []\n",
        "\n",
        "  # Preprocessing to select only English and numbers\n",
        "  for i in s:\n",
        "    if i.isalnum():\n",
        "      str_list.append(i.lower())\n",
        "  \n",
        "  # detection is_palindrome\n",
        "  while len(str_list) >1 :\n",
        "    if str_list.pop(0) != str_list.pop():\n",
        "      return False\n",
        "\n",
        "  return True"
      ],
      "execution_count": 9,
      "outputs": []
    },
    {
      "cell_type": "code",
      "metadata": {
        "colab": {
          "base_uri": "https://localhost:8080/"
        },
        "id": "Hu2q2NDrja40",
        "outputId": "e3bb48bf-1f71-48fa-ea0d-3454650fde38"
      },
      "source": [
        "s1 = \"race a : car\"\n",
        "s2 = \"다시합창:합시다 \"\n",
        "is_palindrome(s1), is_palindrome(s2)"
      ],
      "execution_count": 14,
      "outputs": [
        {
          "output_type": "execute_result",
          "data": {
            "text/plain": [
              "(False, True)"
            ]
          },
          "metadata": {
            "tags": []
          },
          "execution_count": 14
        }
      ]
    },
    {
      "cell_type": "markdown",
      "metadata": {
        "id": "hm_zt-wQkb5G"
      },
      "source": [
        "### 풀이2 실행시간 : 64ms"
      ]
    },
    {
      "cell_type": "code",
      "metadata": {
        "id": "hRn3O4vzj8RN"
      },
      "source": [
        "import collections\n",
        "def is_palindrome(s: str) -> bool:\n",
        "  str_list: Deque = collections.deque()\n",
        "\n",
        "  # Preprocessing to select only English and numbers\n",
        "  for i in s:\n",
        "    if i.isalnum():\n",
        "      str_list.append(i.lower())\n",
        "  \n",
        "  # detection is_palindrome\n",
        "  while len(str_list) >1 :\n",
        "    if str_list.popleft() != str_list.pop():\n",
        "      return False\n",
        "\n",
        "  return True"
      ],
      "execution_count": 19,
      "outputs": []
    },
    {
      "cell_type": "code",
      "metadata": {
        "colab": {
          "base_uri": "https://localhost:8080/"
        },
        "id": "pNzFxgexkOPN",
        "outputId": "4396947f-b80f-477c-ca5d-f19b95a3ed20"
      },
      "source": [
        "s1 = \"race a : car\"\n",
        "s2 = \"다시합창:합시다 \"\n",
        "is_palindrome(s1), is_palindrome(s2)"
      ],
      "execution_count": 20,
      "outputs": [
        {
          "output_type": "execute_result",
          "data": {
            "text/plain": [
              "(False, True)"
            ]
          },
          "metadata": {
            "tags": []
          },
          "execution_count": 20
        }
      ]
    },
    {
      "cell_type": "markdown",
      "metadata": {
        "id": "KQt_9BFQk_sg"
      },
      "source": [
        "### 풀이3 실행시간 : 34ms"
      ]
    },
    {
      "cell_type": "code",
      "metadata": {
        "id": "9xCbB6l0kqin"
      },
      "source": [
        "import re\n",
        "def is_palindrome(s: str) -> bool:\n",
        "  s = s.lower()\n",
        "  s = re.sub(\"[^a-z0-9]\", \"\", s)\n",
        "  return s == s[::-1]"
      ],
      "execution_count": 25,
      "outputs": []
    },
    {
      "cell_type": "code",
      "metadata": {
        "colab": {
          "base_uri": "https://localhost:8080/"
        },
        "id": "PhimE6gRlLC5",
        "outputId": "1c0fb9d9-0156-4950-f3d4-46cea05c1888"
      },
      "source": [
        "s1 = \"race a : car\"\n",
        "s2 = \"다시합창:합시다 \"\n",
        "is_palindrome(s1), is_palindrome(s2)"
      ],
      "execution_count": 26,
      "outputs": [
        {
          "output_type": "execute_result",
          "data": {
            "text/plain": [
              "(False, True)"
            ]
          },
          "metadata": {
            "tags": []
          },
          "execution_count": 26
        }
      ]
    },
    {
      "cell_type": "markdown",
      "metadata": {
        "id": "qNmtxyFLlrvT"
      },
      "source": [
        "re.sub() : 문자열에서 정규 표현식과 일치하는 부분에 대해서 다른 문자열로 대체합니다.  \n",
        "^a-z0-9 : 문자 a에서z까지 숫자 0에서 9까지 사이에 있지 않는 문자열을 선택합니다.   \n",
        "[::] : [A:B:C] index A 부터 index B 까지 C의 간격으로 배열을 만드는 코드입니다."
      ]
    }
  ]
}