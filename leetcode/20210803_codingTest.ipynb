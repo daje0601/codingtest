{
  "nbformat": 4,
  "nbformat_minor": 0,
  "metadata": {
    "colab": {
      "name": "20210803_codingTest.ipynb",
      "provenance": [],
      "authorship_tag": "ABX9TyO6I4JQ/vD+lt3QnUxht7Sh",
      "include_colab_link": true
    },
    "kernelspec": {
      "name": "python3",
      "display_name": "Python 3"
    },
    "language_info": {
      "name": "python"
    }
  },
  "cells": [
    {
      "cell_type": "markdown",
      "metadata": {
        "id": "view-in-github",
        "colab_type": "text"
      },
      "source": [
        "<a href=\"https://colab.research.google.com/github/daje0601/codingtest/blob/main/20210803_codingTest.ipynb\" target=\"_parent\"><img src=\"https://colab.research.google.com/assets/colab-badge.svg\" alt=\"Open In Colab\"/></a>"
      ]
    },
    {
      "cell_type": "markdown",
      "metadata": {
        "id": "VKHzXuRizwKA"
      },
      "source": [
        "# 빗물 계산하기"
      ]
    },
    {
      "cell_type": "code",
      "metadata": {
        "id": "9ill9odWzuXr"
      },
      "source": [
        "def trapping_rain(buildings):\n",
        "    # 코드를 작성하세요\n",
        "    total_height = 0\n",
        "\n",
        "    # 첫번째 인덱스에서는 빗물을 담을 수 없기 때문에 1번 index에서 시작합니다. \n",
        "    # 각각의 인덱스에서 좌우 높은 빌딩을 찾습니다. \n",
        "    for i in range(1, len(buildings) - 1):\n",
        "        max_left = max(buildings[:i])\n",
        "        max_right = max(buildings[i:])\n",
        "        \n",
        "        # 좌우 빌딩 중 낲은 빌딩 높이만큼 물을 담을 수 있기에 min으로 낮은 빌딩을 찾아줍니다. \n",
        "        upper_bound = min(max_left, max_right)\n",
        "\n",
        "        # 현재 인덱스의 빌딩이 가장 높아 음수로 계산되는 것을 막기 위한 코드 입니다. \n",
        "        # 또한, 물을 담았는데 작은 빌딩이 포함되어 있는 경우, 해당 빌딩을 제거하기 위한 코드 입니다. \n",
        "        total_height += max(0, upper_bound - buildings[i])\n",
        "\n",
        "    return total_height\n",
        "    \n",
        "# 테스트\n",
        "print(trapping_rain([3, 0, 0, 2, 0, 4]))\n",
        "print(trapping_rain([0, 1, 0, 2, 1, 0, 1, 3, 2, 1, 2, 1]))"
      ],
      "execution_count": null,
      "outputs": []
    },
    {
      "cell_type": "markdown",
      "metadata": {
        "id": "cF6yXyFs0SaJ"
      },
      "source": [
        "시간 복잡도가 생각보다 오래 걸렸습니다. 이에, 더 좋은 방법은 없는지 고민해보겠습니다. \n"
      ]
    },
    {
      "cell_type": "markdown",
      "metadata": {
        "id": "LbphZLH40fr5"
      },
      "source": [
        "![image.png](data:image/png;base64,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)"
      ]
    },
    {
      "cell_type": "code",
      "metadata": {
        "id": "azmw91OX0fU9"
      },
      "source": [
        ""
      ],
      "execution_count": null,
      "outputs": []
    }
  ]
}