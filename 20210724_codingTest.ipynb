{
  "nbformat": 4,
  "nbformat_minor": 0,
  "metadata": {
    "colab": {
      "name": "20210724_codingTest.ipynb",
      "provenance": [],
      "authorship_tag": "ABX9TyNBakW1n5WcWbLopDTDSFNm",
      "include_colab_link": true
    },
    "kernelspec": {
      "name": "python3",
      "display_name": "Python 3"
    },
    "language_info": {
      "name": "python"
    }
  },
  "cells": [
    {
      "cell_type": "markdown",
      "metadata": {
        "id": "view-in-github",
        "colab_type": "text"
      },
      "source": [
        "<a href=\"https://colab.research.google.com/github/daje0601/codingtest/blob/main/20210724_codingTest.ipynb\" target=\"_parent\"><img src=\"https://colab.research.google.com/assets/colab-badge.svg\" alt=\"Open In Colab\"/></a>"
      ]
    },
    {
      "cell_type": "markdown",
      "metadata": {
        "id": "1EEI542rW9Qh"
      },
      "source": [
        "# 금지어 제거하기"
      ]
    },
    {
      "cell_type": "code",
      "metadata": {
        "id": "wu_Z2ygjRk7f"
      },
      "source": [
        "import re \n",
        "import collections\n",
        "from collections import Counter"
      ],
      "execution_count": 13,
      "outputs": []
    },
    {
      "cell_type": "code",
      "metadata": {
        "colab": {
          "base_uri": "https://localhost:8080/",
          "height": 34
        },
        "id": "Do1B8tCFRY1Q",
        "outputId": "6070b884-657e-4514-9186-df8ef8f8f699"
      },
      "source": [
        "# 내가 푼 방법\n",
        "paragraph = \"Bob hit a ball, the hit BALL flew far after it was hit.\"\n",
        "banned = [\"hit\"]\n",
        "\n",
        "paragraphs = paragraph.replace(\",\", \" \").replace(\".\", \" \").lower().split()\n",
        "for ban in banned:\n",
        "  paragraphs.remove(ban)\n",
        "paragraphs = Counter(paragraphs)\n",
        "paragraphs.most_common(1)[0][0]"
      ],
      "execution_count": 4,
      "outputs": [
        {
          "output_type": "execute_result",
          "data": {
            "application/vnd.google.colaboratory.intrinsic+json": {
              "type": "string"
            },
            "text/plain": [
              "'ball'"
            ]
          },
          "metadata": {
            "tags": []
          },
          "execution_count": 4
        }
      ]
    },
    {
      "cell_type": "code",
      "metadata": {
        "colab": {
          "base_uri": "https://localhost:8080/",
          "height": 34
        },
        "id": "vLwlTLckRbIi",
        "outputId": "cbaaf4a2-9266-411f-8247-b5db91a60f50"
      },
      "source": [
        "# 깔끔한 풀이 방법 \n",
        "paragraph = \"Bob hit a ball, the hit BALL flew far after it was hit.\"\n",
        "\n",
        "words = [word for word in re.sub(r'[^\\w]', ' ', paragraph).lower().split() if word not in banned]\n",
        "        \n",
        "words = Counter(words)\n",
        "words.most_common(1)[0][0]"
      ],
      "execution_count": 6,
      "outputs": [
        {
          "output_type": "execute_result",
          "data": {
            "application/vnd.google.colaboratory.intrinsic+json": {
              "type": "string"
            },
            "text/plain": [
              "'ball'"
            ]
          },
          "metadata": {
            "tags": []
          },
          "execution_count": 6
        }
      ]
    },
    {
      "cell_type": "markdown",
      "metadata": {
        "id": "kMkxzFDZVm1s"
      },
      "source": [
        "# 애나그램"
      ]
    },
    {
      "cell_type": "code",
      "metadata": {
        "id": "GVR8I3AkRjYO"
      },
      "source": [
        "strs =[\"eat\",\"tea\",\"tan\",\"ate\",\"nat\",\"bat\"]"
      ],
      "execution_count": 30,
      "outputs": []
    },
    {
      "cell_type": "code",
      "metadata": {
        "colab": {
          "base_uri": "https://localhost:8080/"
        },
        "id": "HXMVgzBOTT3T",
        "outputId": "de5218c6-2af8-4d65-ff24-4aefc8df6fa8"
      },
      "source": [
        "anagrams = collections.defaultdict(list)\n",
        "anagrams"
      ],
      "execution_count": 31,
      "outputs": [
        {
          "output_type": "execute_result",
          "data": {
            "text/plain": [
              "defaultdict(list, {})"
            ]
          },
          "metadata": {
            "tags": []
          },
          "execution_count": 31
        }
      ]
    },
    {
      "cell_type": "code",
      "metadata": {
        "colab": {
          "base_uri": "https://localhost:8080/"
        },
        "id": "0maiJ0bxTikN",
        "outputId": "b766e5ae-2f27-4bfc-9599-76401b8ac8a4"
      },
      "source": [
        "for word in strs:\n",
        "  print(\"\".join(sorted(word)))"
      ],
      "execution_count": 20,
      "outputs": [
        {
          "output_type": "stream",
          "text": [
            "aet\n",
            "aet\n",
            "ant\n",
            "aet\n",
            "ant\n",
            "abt\n"
          ],
          "name": "stdout"
        }
      ]
    },
    {
      "cell_type": "code",
      "metadata": {
        "colab": {
          "base_uri": "https://localhost:8080/"
        },
        "id": "vlya0mo6UyXf",
        "outputId": "881a880c-c87a-425f-9f90-ce7bec5b5402"
      },
      "source": [
        "for word in strs:\n",
        "  print(sorted(word))"
      ],
      "execution_count": 21,
      "outputs": [
        {
          "output_type": "stream",
          "text": [
            "['a', 'e', 't']\n",
            "['a', 'e', 't']\n",
            "['a', 'n', 't']\n",
            "['a', 'e', 't']\n",
            "['a', 'n', 't']\n",
            "['a', 'b', 't']\n"
          ],
          "name": "stdout"
        }
      ]
    },
    {
      "cell_type": "code",
      "metadata": {
        "colab": {
          "base_uri": "https://localhost:8080/"
        },
        "id": "H5kR_5nyV9C9",
        "outputId": "f9a9978a-3d9c-44db-921d-1e2007e58c20"
      },
      "source": [
        "for word in strs:\n",
        "  anagrams[\"\".join(sorted(word))].append(word)\n",
        "anagrams"
      ],
      "execution_count": 32,
      "outputs": [
        {
          "output_type": "execute_result",
          "data": {
            "text/plain": [
              "defaultdict(list,\n",
              "            {'abt': ['bat'],\n",
              "             'aet': ['eat', 'tea', 'ate'],\n",
              "             'ant': ['tan', 'nat']})"
            ]
          },
          "metadata": {
            "tags": []
          },
          "execution_count": 32
        }
      ]
    },
    {
      "cell_type": "code",
      "metadata": {
        "colab": {
          "base_uri": "https://localhost:8080/"
        },
        "id": "OWMB6qPZViVw",
        "outputId": "b120dfd7-559a-4489-f59f-fb8ad4fbbb57"
      },
      "source": [
        "list(anagrams.values())"
      ],
      "execution_count": 33,
      "outputs": [
        {
          "output_type": "execute_result",
          "data": {
            "text/plain": [
              "[['eat', 'tea', 'ate'], ['tan', 'nat'], ['bat']]"
            ]
          },
          "metadata": {
            "tags": []
          },
          "execution_count": 33
        }
      ]
    },
    {
      "cell_type": "code",
      "metadata": {
        "id": "f3dbFzw_W5XZ"
      },
      "source": [
        ""
      ],
      "execution_count": null,
      "outputs": []
    }
  ]
}