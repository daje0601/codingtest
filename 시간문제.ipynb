{
  "nbformat": 4,
  "nbformat_minor": 0,
  "metadata": {
    "colab": {
      "name": "시간문제.ipynb",
      "provenance": [],
      "include_colab_link": true
    },
    "kernelspec": {
      "name": "python3",
      "display_name": "Python 3"
    },
    "language_info": {
      "name": "python"
    }
  },
  "cells": [
    {
      "cell_type": "markdown",
      "metadata": {
        "id": "view-in-github",
        "colab_type": "text"
      },
      "source": [
        "<a href=\"https://colab.research.google.com/github/daje0601/codingtest/blob/main/%EC%8B%9C%EA%B0%84%EB%AC%B8%EC%A0%9C.ipynb\" target=\"_parent\"><img src=\"https://colab.research.google.com/assets/colab-badge.svg\" alt=\"Open In Colab\"/></a>"
      ]
    },
    {
      "cell_type": "code",
      "metadata": {
        "id": "h4yAmSjIeM4o"
      },
      "source": [
        "def split_time(input_time):\n",
        "  time_list = [] \n",
        "  \n",
        "  seg1 = input_time[0]\n",
        "  seg3 = input_time[1]\n",
        "  \n",
        "  # 시간이 1시간 이내가 주어질 경우 예외처리 \n",
        "  if input_time[1] - input_time[0] <= 3600 :\n",
        "    time_list = input_time\n",
        "  \n",
        "  # 한시간 이상일 경우 아래와 같이 진행 \n",
        "  else:\n",
        "    split_point = input_time[1] // 3600\n",
        "\n",
        "    for i in range(1, split_point+1):\n",
        "      seg2 = i * 3600\n",
        "\n",
        "      # (seg2 <= input_time[1])에서 =는 넣어주지 않으면 input_time3의 경우 일부 데이터가 누락이 발생되어 = 필수! \n",
        "      if (seg2 >= input_time[0]) and (seg2 <= input_time[1]):\n",
        "        time_list.append((seg1, seg2))\n",
        "        seg1 = seg2 \n",
        "  \n",
        "  return time_list"
      ],
      "execution_count": null,
      "outputs": []
    },
    {
      "cell_type": "code",
      "metadata": {
        "colab": {
          "base_uri": "https://localhost:8080/"
        },
        "id": "CUn9Qcu4eWMW",
        "outputId": "212b480f-209e-4276-b030-e06dbaf917d9"
      },
      "source": [
        "input_time1 = (3610, 3620)\n",
        "input_time2 = (3610, 7600)\n",
        "input_time3 = (3610, 10800)\n",
        "input_time4 = (3610, 20000)\n",
        "\n",
        "print(split_time(input_time1))\n",
        "print(split_time(input_time2))\n",
        "print(split_time(input_time3))\n",
        "print(split_time(input_time4))"
      ],
      "execution_count": null,
      "outputs": [
        {
          "output_type": "stream",
          "name": "stdout",
          "text": [
            "(3610, 3620)\n",
            "[(3610, 7200)]\n",
            "[(3610, 7200), (7200, 10800)]\n",
            "[(3610, 7200), (7200, 10800), (10800, 14400), (14400, 18000)]\n"
          ]
        }
      ]
    },
    {
      "cell_type": "code",
      "metadata": {
        "id": "IDNGcpeOfcji"
      },
      "source": [
        ""
      ],
      "execution_count": null,
      "outputs": []
    }
  ]
}