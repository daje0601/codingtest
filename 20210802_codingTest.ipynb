{
  "nbformat": 4,
  "nbformat_minor": 0,
  "metadata": {
    "colab": {
      "name": "20210802_codingTest.ipynb",
      "provenance": [],
      "authorship_tag": "ABX9TyMwXnKG3AqLwv0yfKncb21Z",
      "include_colab_link": true
    },
    "kernelspec": {
      "name": "python3",
      "display_name": "Python 3"
    },
    "language_info": {
      "name": "python"
    }
  },
  "cells": [
    {
      "cell_type": "markdown",
      "metadata": {
        "id": "view-in-github",
        "colab_type": "text"
      },
      "source": [
        "<a href=\"https://colab.research.google.com/github/daje0601/codingtest/blob/main/20210802_codingTest.ipynb\" target=\"_parent\"><img src=\"https://colab.research.google.com/assets/colab-badge.svg\" alt=\"Open In Colab\"/></a>"
      ]
    },
    {
      "cell_type": "markdown",
      "metadata": {
        "id": "PYAhqlc7sT8K"
      },
      "source": [
        "# 문제 : 두수를 더하여 타켓을 만들 수 있는 배열의 인덱스를 찾아보세요!"
      ]
    },
    {
      "cell_type": "code",
      "metadata": {
        "id": "c0oF6MxrjZCD"
      },
      "source": [
        "nums = [2, 7, 11, 15] \n",
        "target = 9 "
      ],
      "execution_count": 2,
      "outputs": []
    },
    {
      "cell_type": "code",
      "metadata": {
        "colab": {
          "base_uri": "https://localhost:8080/"
        },
        "id": "Wu-AgetQjgo1",
        "outputId": "07f06719-a982-44dc-c8eb-68e49db4e788"
      },
      "source": [
        "import time\n",
        "start = time.time()\n",
        "\n",
        "\n",
        "for i in range(len(nums)):\n",
        "  for j in range(i +1, len(nums)):\n",
        "    if i == j :\n",
        "      pass \n",
        "    else :\n",
        "      if (nums[i] + nums[j])  == target :\n",
        "        print(i, j)\n",
        "\n",
        "print(\"time :\", time.time() - start)"
      ],
      "execution_count": 34,
      "outputs": [
        {
          "output_type": "stream",
          "text": [
            "0 1\n",
            "time : 0.003289937973022461\n"
          ],
          "name": "stdout"
        }
      ]
    },
    {
      "cell_type": "markdown",
      "metadata": {
        "id": "MLChQ498sRtB"
      },
      "source": [
        "제가 처음 생각한 방법인데, 일단 for문을 2번 연속적으로 돌기 때문에 시간 복잡도가 $O(n^2)$가 된다. "
      ]
    },
    {
      "cell_type": "markdown",
      "metadata": {
        "id": "HOAO5MUuwYMH"
      },
      "source": [
        "![image.png](data:image/png;base64,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)"
      ]
    },
    {
      "cell_type": "code",
      "metadata": {
        "colab": {
          "base_uri": "https://localhost:8080/"
        },
        "id": "JumUQK52k0hS",
        "outputId": "b8faf1d1-2baf-42ca-8f26-4331a84721dc"
      },
      "source": [
        "start = time.time()\n",
        "\n",
        "for i, n in enumerate(nums):\n",
        "  comp = target - n \n",
        "  \n",
        "  if comp in nums[0+1:]:\n",
        "    print(nums.index(n), nums[i + 1:].index(comp) + ( i + 1 ))\n",
        "\n",
        "print(\"time :\", time.time() - start)"
      ],
      "execution_count": 35,
      "outputs": [
        {
          "output_type": "stream",
          "text": [
            "0 1\n",
            "time : 0.002820730209350586\n"
          ],
          "name": "stdout"
        }
      ]
    },
    {
      "cell_type": "markdown",
      "metadata": {
        "id": "9IeA1Fuwsshb"
      },
      "source": [
        "이를 개선하기 위해 n에서 target 빼고 난 후 index를 구하는 식으로 접근하여 속도를 개선하였으나,  \n",
        "여전히 시간 복잡도는 for와 in문으로 인해 $O(n^2)$이다. "
      ]
    },
    {
      "cell_type": "markdown",
      "metadata": {
        "id": "lMC-5OpbwcdF"
      },
      "source": [
        "![image.png](data:image/png;base64,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)"
      ]
    },
    {
      "cell_type": "code",
      "metadata": {
        "id": "Tu_zHpxkpPQf"
      },
      "source": [
        "def check(nums, target):\n",
        "  nums_dict = {}\n",
        "  for i, num in enumerate(nums):\n",
        "    nums_dict[num] = i  # 우리가 찾고자 하는 값이 인덱스이기에 i를 value로 지정함 \n",
        "\n",
        "  for i, num in enumerate(nums):\n",
        "    if target - num in nums_dict and i != nums_dict[target - num]: #  and i != nums_dict[target - num]는 [0, 1]과 [1, 0]을 가려주는 코드이다. \n",
        "      return [i, nums_dict[target - num]]"
      ],
      "execution_count": 56,
      "outputs": []
    },
    {
      "cell_type": "code",
      "metadata": {
        "colab": {
          "base_uri": "https://localhost:8080/"
        },
        "id": "84ztIGcKtORM",
        "outputId": "28aa5a27-a90f-4a88-a365-4ba11fe409d8"
      },
      "source": [
        "check(nums, target)"
      ],
      "execution_count": 57,
      "outputs": [
        {
          "output_type": "execute_result",
          "data": {
            "text/plain": [
              "[0, 1]"
            ]
          },
          "metadata": {
            "tags": []
          },
          "execution_count": 57
        }
      ]
    },
    {
      "cell_type": "markdown",
      "metadata": {
        "id": "nMgxE5Bawh03"
      },
      "source": [
        "이와 같이 dict로 구성하여 조회를 하게 되면, 조회에 대한 시간복잡도가 $O(1)$ ~ $O(n)$이 된다.   \n",
        "이에, 시간복잡도가 $O(n^2)$보다 훨씬 줄어들기에 실행속도 부분에서 개선되는 것을 확인 할 수 있다. "
      ]
    },
    {
      "cell_type": "markdown",
      "metadata": {
        "id": "WvUZWXgDwfy3"
      },
      "source": [
        "![image.png](data:image/png;base64,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)"
      ]
    },
    {
      "cell_type": "code",
      "metadata": {
        "id": "LRiLZLcpvNIq"
      },
      "source": [
        ""
      ],
      "execution_count": null,
      "outputs": []
    }
  ]
}