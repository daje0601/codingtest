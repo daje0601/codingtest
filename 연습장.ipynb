{
  "nbformat": 4,
  "nbformat_minor": 0,
  "metadata": {
    "colab": {
      "name": "연습장",
      "provenance": [],
      "authorship_tag": "ABX9TyMYdwj5xT5GNCtxjAO30g/7",
      "include_colab_link": true
    },
    "kernelspec": {
      "name": "python3",
      "display_name": "Python 3"
    },
    "language_info": {
      "name": "python"
    }
  },
  "cells": [
    {
      "cell_type": "markdown",
      "metadata": {
        "id": "view-in-github",
        "colab_type": "text"
      },
      "source": [
        "<a href=\"https://colab.research.google.com/github/daje0601/codingtest/blob/main/%EC%97%B0%EC%8A%B5%EC%9E%A5.ipynb\" target=\"_parent\"><img src=\"https://colab.research.google.com/assets/colab-badge.svg\" alt=\"Open In Colab\"/></a>"
      ]
    },
    {
      "cell_type": "code",
      "metadata": {
        "id": "w3Y_UxzR036I"
      },
      "source": [
        "def fib(n):\n",
        "    # n번째 피보나치 수를 담는 사전\n",
        "    fib_cache = {}\n",
        "    if n <= 2:\n",
        "        fib_cache[n] = 1\n",
        "        \n",
        "    else:\n",
        "        fib_value = fib(n-1) + fib(n-2)\n",
        "        fib_cache[n] = fib_value\n",
        "\n",
        "    return fib_memo(n, fib_cache)"
      ],
      "execution_count": null,
      "outputs": []
    },
    {
      "cell_type": "code",
      "metadata": {
        "id": "dqULnLCrE9fQ"
      },
      "source": [
        ""
      ],
      "execution_count": null,
      "outputs": []
    },
    {
      "cell_type": "code",
      "metadata": {
        "id": "wddkiiMkAOgG"
      },
      "source": [
        "class Node :\n",
        "  \"\"\"링크드 리스트의 노드 클래스\"\"\"\n",
        "\n",
        "  def __init__(self, data):\n",
        "    self.data = data \n",
        "    self.next = None"
      ],
      "execution_count": 1,
      "outputs": []
    },
    {
      "cell_type": "code",
      "metadata": {
        "id": "Ny2hQvxKAaWD"
      },
      "source": [
        "# 노드를 생성 합니다. \n",
        "head_node = Node(2)\n",
        "node_1 = Node(3)\n",
        "node_2 = Node(5)\n",
        "node_3 = Node(7)\n",
        "tail_node = Node(11)"
      ],
      "execution_count": 2,
      "outputs": []
    },
    {
      "cell_type": "code",
      "metadata": {
        "id": "q0iDWurGAtKE"
      },
      "source": [
        "# 노드들을 연결해보도록 하겠습니다. \n",
        "\n",
        "head_node.next = node_1\n",
        "node_1.next = node_2\n",
        "node_2.next = node_3\n",
        "node_3.next = tail_node"
      ],
      "execution_count": 3,
      "outputs": []
    },
    {
      "cell_type": "code",
      "metadata": {
        "id": "J8qvvQsVArYw",
        "colab": {
          "base_uri": "https://localhost:8080/"
        },
        "outputId": "b390de7e-e4a2-41d5-c2a5-19beb8c805a2"
      },
      "source": [
        "# 노드들을 순서대로 출력하겠습니다. \n",
        "\n",
        "iterator = head_node\n",
        "while iterator is not None:\n",
        "  print(iterator.data)\n",
        "  iterator = iterator.next\n"
      ],
      "execution_count": 4,
      "outputs": [
        {
          "output_type": "stream",
          "name": "stdout",
          "text": [
            "2\n",
            "3\n",
            "5\n",
            "7\n",
            "11\n"
          ]
        }
      ]
    },
    {
      "cell_type": "code",
      "metadata": {
        "id": "3YTrjNezAsgG"
      },
      "source": [
        "class LinkedList:\n",
        "  def __init__(self):\n",
        "    self.head = None\n",
        "    self.tail = None \n",
        "\n",
        "\n",
        "\n",
        "  def insert_after(self, previous_node, data):\n",
        "    \"\"\"주어진 링크드 리스트 노드 뒤 삽입 연산 메소드\"\"\"\n",
        "    new_node = Node(data)\n",
        "\n",
        "    # 링크드 리스트 가장 마지막 순서에 삽입할 때 \n",
        "    # previous_node가 self.tail인지를 확인해줄 필요가 있습니다. \n",
        "    if previous_node is self.tail: \n",
        "      self.tail.next = new_node \n",
        "      self.tail = new_node\n",
        "\n",
        "    # 링크드 리스트 중간에 삽입할 때 \n",
        "    # tail이 아니라면 모두 중간에 삽입이 되는 것이기에 else로만 처리해도 무방합니다. \n",
        "    else:\n",
        "      new_node.next = previous_node.next\n",
        "      previous_node.next = new_node # 만약 해당 줄을 먼저 기재를 했다면, 링크드 리스트가 연결이 되지 않습니다. 순서에 유의해야합니다. \n",
        "\n",
        "\n",
        "  def find_node_at(self, index):\n",
        "    iterator = self.head\n",
        "\n",
        "    while iterator is not None:\n",
        "      pass\n",
        "\n",
        "  \n",
        "  def append(self, data):\n",
        "    \"\"\"링크드 리스트 추가 연산 메소드\"\"\"\n",
        "\n",
        "    new_node = Node(data)\n",
        "\n",
        "    # 링크드 리스트가 비어있을 때 -> head가 없는 경우니 head를 만들어주어야 합니다. \n",
        "    if self.head == None:\n",
        "      # 노드가 하나 밖에 없는 경우니까, 머리와 꼬리가 모두 입력받은 new data로 지정이 됩니다. \n",
        "      self.head = new_node\n",
        "      self.tail = new_node\n",
        "\n",
        "    # 링크드 리스트가 비어있지 않을 때 \n",
        "    # 이곳에는 두 가지 작업이 이루어져야 합니다. \n",
        "    # 1) 기존 링크드리스트에 새로운 노드를 추가하고 \n",
        "    # 2) 추가된 노드를 tail 노드로 지정을 해주어야 합니다. \n",
        "    else:\n",
        "      self.tail.next = new_node\n",
        "      self.tail = new_node\n",
        "  \n",
        "\n",
        "  def __str__(self):\n",
        "        \"\"\"링크드 리스트를 문자열로 표현해서 리턴하는 메소드\"\"\"\n",
        "        res_str = \"|\"\n",
        "\n",
        "        # 링크드  리스트 안에 모든 노드를 돌기 위한 변수. 일단 가장 앞 노드로 정의한다.\n",
        "        iterator = self.head\n",
        "\n",
        "        # 링크드  리스트 끝까지 돈다\n",
        "        while iterator is not None:\n",
        "            # 각 노드의 데이터를 리턴하는 문자열에 더해준다\n",
        "            res_str += f\" {iterator.data} |\"\n",
        "            iterator = iterator.next  # 다음 노드로 넘어간다\n",
        "\n",
        "        return res_str"
      ],
      "execution_count": 6,
      "outputs": []
    },
    {
      "cell_type": "code",
      "metadata": {
        "id": "Pb6rStCjDY2r"
      },
      "source": [
        ""
      ],
      "execution_count": 6,
      "outputs": []
    },
    {
      "cell_type": "code",
      "metadata": {
        "id": "qDzYR_XIEnTF"
      },
      "source": [
        "# 새로운 링크드 리스트 생성 \n",
        "my_list = LinkedList()\n",
        "\n",
        "# 링크드 리스트에 데이터 추가 \n",
        "my_list.append(2)\n",
        "my_list.append(3)\n",
        "my_list.append(5)\n",
        "my_list.append(7)\n",
        "my_list.append(11)"
      ],
      "execution_count": 7,
      "outputs": []
    },
    {
      "cell_type": "code",
      "metadata": {
        "id": "qO2Z-pBRE76B",
        "colab": {
          "base_uri": "https://localhost:8080/"
        },
        "outputId": "00fe797a-cb49-445b-cf87-71db7be46e45"
      },
      "source": [
        "iterator = my_list.head\n",
        "while iterator is not None:\n",
        "  print(iterator.data)\n",
        "  iterator = iterator.next\n"
      ],
      "execution_count": 8,
      "outputs": [
        {
          "output_type": "stream",
          "name": "stdout",
          "text": [
            "2\n",
            "3\n",
            "5\n",
            "7\n",
            "11\n"
          ]
        }
      ]
    }
  ]
}