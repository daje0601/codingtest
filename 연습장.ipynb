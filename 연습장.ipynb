{
  "nbformat": 4,
  "nbformat_minor": 0,
  "metadata": {
    "colab": {
      "name": "연습장",
      "provenance": [],
      "authorship_tag": "ABX9TyPGyRpla0QeSCID9bCOo6vA",
      "include_colab_link": true
    },
    "kernelspec": {
      "name": "python3",
      "display_name": "Python 3"
    },
    "language_info": {
      "name": "python"
    }
  },
  "cells": [
    {
      "cell_type": "markdown",
      "metadata": {
        "id": "view-in-github",
        "colab_type": "text"
      },
      "source": [
        "<a href=\"https://colab.research.google.com/github/daje0601/codingtest/blob/main/%EC%97%B0%EC%8A%B5%EC%9E%A5.ipynb\" target=\"_parent\"><img src=\"https://colab.research.google.com/assets/colab-badge.svg\" alt=\"Open In Colab\"/></a>"
      ]
    },
    {
      "cell_type": "code",
      "metadata": {
        "id": "w3Y_UxzR036I"
      },
      "source": [
        "def fib(n):\n",
        "    # n번째 피보나치 수를 담는 사전\n",
        "    fib_cache = {}\n",
        "    if n <= 2:\n",
        "        fib_cache[n] = 1\n",
        "        \n",
        "    else:\n",
        "        fib_value = fib(n-1) + fib(n-2)\n",
        "        fib_cache[n] = fib_value\n",
        "\n",
        "    return fib_memo(n, fib_cache)"
      ],
      "execution_count": null,
      "outputs": []
    },
    {
      "cell_type": "code",
      "metadata": {
        "id": "dqULnLCrE9fQ"
      },
      "source": [
        ""
      ],
      "execution_count": null,
      "outputs": []
    },
    {
      "cell_type": "code",
      "metadata": {
        "id": "wddkiiMkAOgG"
      },
      "source": [
        "class Node :\n",
        "  \"\"\"링크드 리스트의 노드 클래스\"\"\"\n",
        "\n",
        "  def __init__(self, data):\n",
        "    self.data = data \n",
        "    self.next = None"
      ],
      "execution_count": null,
      "outputs": []
    },
    {
      "cell_type": "code",
      "metadata": {
        "id": "Ny2hQvxKAaWD"
      },
      "source": [
        "# 노드를 생성 합니다. \n",
        "head_node = Node(2)\n",
        "node_1 = Node(3)\n",
        "node_2 = Node(5)\n",
        "node_3 = Node(7)\n",
        "tail_node = Node(11)"
      ],
      "execution_count": null,
      "outputs": []
    },
    {
      "cell_type": "code",
      "metadata": {
        "id": "q0iDWurGAtKE"
      },
      "source": [
        "# 노드들을 연결해보도록 하겠습니다. \n",
        "\n",
        "head_node.next = node_1\n",
        "node_1.next = node_2\n",
        "node_2.next = node_3\n",
        "node_3.next = tail_node"
      ],
      "execution_count": null,
      "outputs": []
    },
    {
      "cell_type": "code",
      "metadata": {
        "id": "J8qvvQsVArYw",
        "colab": {
          "base_uri": "https://localhost:8080/"
        },
        "outputId": "b390de7e-e4a2-41d5-c2a5-19beb8c805a2"
      },
      "source": [
        "# 노드들을 순서대로 출력하겠습니다. \n",
        "\n",
        "iterator = head_node\n",
        "while iterator is not None:\n",
        "  print(iterator.data)\n",
        "  iterator = iterator.next\n"
      ],
      "execution_count": null,
      "outputs": [
        {
          "output_type": "stream",
          "name": "stdout",
          "text": [
            "2\n",
            "3\n",
            "5\n",
            "7\n",
            "11\n"
          ]
        }
      ]
    },
    {
      "cell_type": "code",
      "metadata": {
        "id": "3YTrjNezAsgG"
      },
      "source": [
        "class LinkedList:\n",
        "  def __init__(self):\n",
        "    self.head = None\n",
        "    self.tail = None \n",
        "\n",
        "\n",
        "\n",
        "  def insert_after(self, previous_node, data):\n",
        "    \"\"\"주어진 링크드 리스트 노드 뒤 삽입 연산 메소드\"\"\"\n",
        "    new_node = Node(data)\n",
        "\n",
        "    # 링크드 리스트 가장 마지막 순서에 삽입할 때 \n",
        "    # previous_node가 self.tail인지를 확인해줄 필요가 있습니다. \n",
        "    if previous_node is self.tail: \n",
        "      self.tail.next = new_node \n",
        "      self.tail = new_node\n",
        "\n",
        "    # 링크드 리스트 중간에 삽입할 때 \n",
        "    # tail이 아니라면 모두 중간에 삽입이 되는 것이기에 else로만 처리해도 무방합니다. \n",
        "    else:\n",
        "      new_node.next = previous_node.next\n",
        "      previous_node.next = new_node # 만약 해당 줄을 먼저 기재를 했다면, 링크드 리스트가 연결이 되지 않습니다. 순서에 유의해야합니다. \n",
        "\n",
        "\n",
        "  def find_node_at(self, index):\n",
        "    iterator = self.head\n",
        "\n",
        "    while iterator is not None:\n",
        "      pass\n",
        "\n",
        "  \n",
        "  def append(self, data):\n",
        "    \"\"\"링크드 리스트 추가 연산 메소드\"\"\"\n",
        "\n",
        "    new_node = Node(data)\n",
        "\n",
        "    # 링크드 리스트가 비어있을 때 -> head가 없는 경우니 head를 만들어주어야 합니다. \n",
        "    if self.head == None:\n",
        "      # 노드가 하나 밖에 없는 경우니까, 머리와 꼬리가 모두 입력받은 new data로 지정이 됩니다. \n",
        "      self.head = new_node\n",
        "      self.tail = new_node\n",
        "\n",
        "    # 링크드 리스트가 비어있지 않을 때 \n",
        "    # 이곳에는 두 가지 작업이 이루어져야 합니다. \n",
        "    # 1) 기존 링크드리스트에 새로운 노드를 추가하고 \n",
        "    # 2) 추가된 노드를 tail 노드로 지정을 해주어야 합니다. \n",
        "    else:\n",
        "      self.tail.next = new_node\n",
        "      self.tail = new_node\n",
        "  \n",
        "\n",
        "  def __str__(self):\n",
        "        \"\"\"링크드 리스트를 문자열로 표현해서 리턴하는 메소드\"\"\"\n",
        "        res_str = \"|\"\n",
        "\n",
        "        # 링크드  리스트 안에 모든 노드를 돌기 위한 변수. 일단 가장 앞 노드로 정의한다.\n",
        "        iterator = self.head\n",
        "\n",
        "        # 링크드  리스트 끝까지 돈다\n",
        "        while iterator is not None:\n",
        "            # 각 노드의 데이터를 리턴하는 문자열에 더해준다\n",
        "            res_str += f\" {iterator.data} |\"\n",
        "            iterator = iterator.next  # 다음 노드로 넘어간다\n",
        "\n",
        "        return res_str"
      ],
      "execution_count": 4,
      "outputs": []
    },
    {
      "cell_type": "code",
      "metadata": {
        "id": "Pb6rStCjDY2r"
      },
      "source": [
        ""
      ],
      "execution_count": null,
      "outputs": []
    },
    {
      "cell_type": "code",
      "metadata": {
        "id": "qDzYR_XIEnTF"
      },
      "source": [
        "# 새로운 링크드 리스트 생성 \n",
        "my_list = LinkedList()\n",
        "\n",
        "# 링크드 리스트에 데이터 추가 \n",
        "my_list.append(2)\n",
        "my_list.append(3)\n",
        "my_list.append(5)\n",
        "my_list.append(7)\n",
        "my_list.append(11)"
      ],
      "execution_count": null,
      "outputs": []
    },
    {
      "cell_type": "code",
      "metadata": {
        "id": "qO2Z-pBRE76B",
        "colab": {
          "base_uri": "https://localhost:8080/"
        },
        "outputId": "00fe797a-cb49-445b-cf87-71db7be46e45"
      },
      "source": [
        "iterator = my_list.head\n",
        "while iterator is not None:\n",
        "  print(iterator.data)\n",
        "  iterator = iterator.next\n"
      ],
      "execution_count": null,
      "outputs": [
        {
          "output_type": "stream",
          "name": "stdout",
          "text": [
            "2\n",
            "3\n",
            "5\n",
            "7\n",
            "11\n"
          ]
        }
      ]
    },
    {
      "cell_type": "code",
      "metadata": {
        "id": "4C6UGTUHVGOr"
      },
      "source": [
        "nums = [-1, 0, 1, 2, -1, -4]\n",
        "# nums = [0]\n",
        "# [[-1,-1,2],[-1,0,1]]"
      ],
      "execution_count": null,
      "outputs": []
    },
    {
      "cell_type": "code",
      "metadata": {
        "id": "fQgxNaKfVhJS"
      },
      "source": [
        "from scipy.special import comb\n",
        "\n",
        "\n",
        "def threeSum(nums):\n",
        "    answer = []\n",
        "    nums.sort()\n",
        "\n",
        "    # 두번째, 세번째 숫자가 와야하므로 -2를 해줌 \n",
        "    for i in range(len(nums)-2):\n",
        "\n",
        "        # i가 1 일 때 0번째와 같다면 넘어갈 수 있도록 예외처리를 해줌\n",
        "        # 나는 참 아이러니한게 i가 2일 때 0이랑 같은지는 확인을 못하는데 괜찮은 건가?\n",
        "        # 왜 바로 전에 숫자와만 비교를 해서 안같다면 괜찮은거지? 정렬을 했기 때문이다! \n",
        "        if i > 0 and nums[i] == nums[i-1]:\n",
        "            continue\n",
        "        \n",
        "        # i를 기준으로 left와 right를 구하고 그 친구들을 쭉쭉 더해오는 식으로 코드를 구상해보았다. \n",
        "        # 처음에는 순열조합을 만들어서 적용을 해보았으나, 시간복잡도가 너무 높아져서 코드가 통과가 되지 않았다. \n",
        "        left, right = i+1, len(nums)-1\n",
        "\n",
        "        # 당연히 left가 right를 넘어갈 수 있으므로 그 전까지만 반복해서 코드가 작동될 수 있도록 한다.  \n",
        "        while left < right :\n",
        "            sum = nums[i]+nums[left]+nums[right]\n",
        "            \n",
        "            # 정렬을 해 놓았기 때문에 sum이 0보다 작으면 left를 한칸 앞으로 이동하고 \n",
        "            if sum < 0 :\n",
        "                left += 1\n",
        "            # 0보다 크면 뒤로 한칸 이동하게 한다. \n",
        "            elif sum > 0 :\n",
        "                right -= 1\n",
        "            # 0일때는 answer에 넣어주고, left와 right를 동시에 움직이게 한다. \n",
        "            # 단, 중복된 값이 있을 수 있으므로 left와 right에 예외처리를 해줘야 한다. \n",
        "            else:\n",
        "                answer.append([nums[i], nums[left], nums[right]])\n",
        "                while left < right and nums[left] == nums[left+1]:\n",
        "                    left +=1\n",
        "                while left < right and nums[right] == nums[right-1]:\n",
        "                    right -= 1\n",
        "                left += 1\n",
        "                right -= 1\n",
        "                \n",
        "    return answer"
      ],
      "execution_count": null,
      "outputs": []
    },
    {
      "cell_type": "code",
      "metadata": {
        "colab": {
          "base_uri": "https://localhost:8080/"
        },
        "id": "Cl4y2lpJXXln",
        "outputId": "a1f1a4a8-3862-492c-b3ca-918c0223717b"
      },
      "source": [
        "threeSum(nums)"
      ],
      "execution_count": null,
      "outputs": [
        {
          "output_type": "execute_result",
          "data": {
            "text/plain": [
              "[[-1, -1, 2], [-1, 0, 1]]"
            ]
          },
          "metadata": {},
          "execution_count": 14
        }
      ]
    },
    {
      "cell_type": "code",
      "metadata": {
        "colab": {
          "base_uri": "https://localhost:8080/"
        },
        "id": "EEVjWjEsY7Ml",
        "outputId": "c4446655-a0f9-4857-a19d-58f0876feaff"
      },
      "source": [
        "random.sample(range(len(nums)), 3)"
      ],
      "execution_count": null,
      "outputs": [
        {
          "output_type": "execute_result",
          "data": {
            "text/plain": [
              "[4, 0, 5]"
            ]
          },
          "metadata": {},
          "execution_count": 39
        }
      ]
    },
    {
      "cell_type": "code",
      "metadata": {
        "colab": {
          "base_uri": "https://localhost:8080/"
        },
        "id": "NMvy0F0nfDav",
        "outputId": "c30f1846-efeb-4c7d-f224-7ae104220eab"
      },
      "source": [
        "from itertools import combinations\n",
        "\n",
        "for g in range(len(list(combinations(range(len(nums)), 3)))):\n",
        "\n",
        "  i, j, k = list(combinations(range(len(nums)), 3))[g]\n",
        "  print(i, j, k)"
      ],
      "execution_count": null,
      "outputs": [
        {
          "output_type": "stream",
          "name": "stdout",
          "text": [
            "0 1 2\n",
            "0 1 3\n",
            "0 1 4\n",
            "0 1 5\n",
            "0 2 3\n",
            "0 2 4\n",
            "0 2 5\n",
            "0 3 4\n",
            "0 3 5\n",
            "0 4 5\n",
            "1 2 3\n",
            "1 2 4\n",
            "1 2 5\n",
            "1 3 4\n",
            "1 3 5\n",
            "1 4 5\n",
            "2 3 4\n",
            "2 3 5\n",
            "2 4 5\n",
            "3 4 5\n"
          ]
        }
      ]
    },
    {
      "cell_type": "code",
      "metadata": {
        "id": "DYa-IwEwfZ0N",
        "colab": {
          "base_uri": "https://localhost:8080/"
        },
        "outputId": "b58fba88-186a-4677-824c-4ecd816b07c7"
      },
      "source": [
        "nums = [1,2,3,4]\n",
        "\n",
        "out = [] \n",
        "p = 1\n",
        "for i in range(0, len(nums)):\n",
        "  out.append(p)\n",
        "  p = p * nums[i]\n",
        "\n",
        "\n",
        "out"
      ],
      "execution_count": null,
      "outputs": [
        {
          "output_type": "execute_result",
          "data": {
            "text/plain": [
              "[1, 1, 2, 6]"
            ]
          },
          "metadata": {},
          "execution_count": 36
        }
      ]
    },
    {
      "cell_type": "code",
      "metadata": {
        "id": "JRnnk2en6LRt",
        "colab": {
          "base_uri": "https://localhost:8080/"
        },
        "outputId": "e6ba0ec4-9e19-4ca5-93e9-5c40e66b4d97"
      },
      "source": [
        "nums = [1,2,3,4]\n",
        "\n",
        "out = [] \n",
        "p = 1\n",
        "for i in range(0, len(nums)):\n",
        "  out.append(p)\n",
        "  p = p * nums[i]\n",
        "  \n",
        "\n",
        "p = 1\n",
        "for i in range(len(nums)-1, -1, -1):\n",
        "  print(\"i\", i)\n",
        "  print(\"befor out[i] \",  out[i] )\n",
        "  out[i] = out[i] * p\n",
        "  print(\" out[i] \",  out[i] )\n",
        "  p = p * nums[i]\n",
        "\n",
        "out "
      ],
      "execution_count": null,
      "outputs": [
        {
          "output_type": "stream",
          "name": "stdout",
          "text": [
            "i 3\n",
            "befor out[i]  6\n",
            " out[i]  6\n",
            "i 2\n",
            "befor out[i]  2\n",
            " out[i]  8\n",
            "i 1\n",
            "befor out[i]  1\n",
            " out[i]  12\n",
            "i 0\n",
            "befor out[i]  1\n",
            " out[i]  24\n"
          ]
        },
        {
          "output_type": "execute_result",
          "data": {
            "text/plain": [
              "[24, 12, 8, 6]"
            ]
          },
          "metadata": {},
          "execution_count": 40
        }
      ]
    },
    {
      "cell_type": "code",
      "metadata": {
        "id": "Dj9lDHx06eLb",
        "colab": {
          "base_uri": "https://localhost:8080/"
        },
        "outputId": "329ee8f3-9939-47e0-f6be-5b943f4af01f"
      },
      "source": [
        "prices = [7,6,4,3,1]\n",
        "\n",
        "value = []\n",
        "for i in range(0, len(prices)-1):\n",
        "    print(i)\n",
        "    for j in range(i+1, len(prices)):\n",
        "        print(j)\n",
        "        value.append(prices[j] - prices[i])\n",
        "            \n",
        "answer = max(value)\n",
        "value"
      ],
      "execution_count": null,
      "outputs": [
        {
          "output_type": "stream",
          "name": "stdout",
          "text": [
            "0\n",
            "1\n",
            "2\n",
            "3\n",
            "4\n",
            "1\n",
            "2\n",
            "3\n",
            "4\n",
            "2\n",
            "3\n",
            "4\n",
            "3\n",
            "4\n"
          ]
        },
        {
          "output_type": "execute_result",
          "data": {
            "text/plain": [
              "[-1, -3, -4, -6, -2, -3, -5, -1, -3, -2]"
            ]
          },
          "metadata": {},
          "execution_count": 78
        }
      ]
    },
    {
      "cell_type": "code",
      "metadata": {
        "id": "okW3B3XUJSrm",
        "colab": {
          "base_uri": "https://localhost:8080/"
        },
        "outputId": "ffada8f9-5f4a-422a-8a05-3f2717d2bd2e"
      },
      "source": [
        "prices[-1]"
      ],
      "execution_count": null,
      "outputs": [
        {
          "output_type": "execute_result",
          "data": {
            "text/plain": [
              "4"
            ]
          },
          "metadata": {},
          "execution_count": 60
        }
      ]
    },
    {
      "cell_type": "code",
      "metadata": {
        "id": "FHEj4q-baGPq"
      },
      "source": [
        "# solution1 - discussion 참조 \n"
      ],
      "execution_count": 19,
      "outputs": []
    },
    {
      "cell_type": "code",
      "metadata": {
        "id": "TlHLui2pTTzG"
      },
      "source": [
        "class Node:\n",
        "    def __init__(self, val=0, next=None):\n",
        "        self.val = val\n",
        "        self.next = next\n",
        "\n",
        "class Solution:\n",
        "    def mergeTwoLists(self, l1, l2):\n",
        "        if not l1 or l2 and l1.val > l2.val:\n",
        "            l1, l2 = l2, l1\n",
        "        if l1:\n",
        "            l1.next = self.mergeTwoLists(l1.next, l2)\n",
        "        return l1\n",
        "        "
      ],
      "execution_count": 23,
      "outputs": []
    },
    {
      "cell_type": "code",
      "metadata": {
        "id": "XVy4J6H7TZiA"
      },
      "source": [
        "l1 = LinkedList()\n",
        "l2 = LinkedList()\n",
        "\n",
        "# 링크드 리스트에 데이터 추가 \n",
        "l1.append(1)\n",
        "l1.append(2)\n",
        "l1.append(4)\n",
        "l2.append(1)\n",
        "l2.append(3)\n",
        "l2.append(4)"
      ],
      "execution_count": 7,
      "outputs": []
    },
    {
      "cell_type": "code",
      "metadata": {
        "id": "cto2lidzTxMb",
        "outputId": "ad1093be-daed-4694-cbd2-d0d0c68c2cc2",
        "colab": {
          "base_uri": "https://localhost:8080/"
        }
      },
      "source": [
        "iterator = l1.head\n",
        "while iterator is not None:\n",
        "  print(iterator.val)\n",
        "  iterator = iterator.next\n",
        "\n",
        "iterator = l2.head\n",
        "while iterator is not None:\n",
        "  print(iterator.val)\n",
        "  iterator = iterator.next"
      ],
      "execution_count": 11,
      "outputs": [
        {
          "output_type": "stream",
          "name": "stdout",
          "text": [
            "1\n",
            "2\n",
            "4\n",
            "1\n",
            "3\n",
            "4\n"
          ]
        }
      ]
    },
    {
      "cell_type": "code",
      "metadata": {
        "id": "Y4NggHRCVUgS"
      },
      "source": [
        ""
      ],
      "execution_count": null,
      "outputs": []
    }
  ]
}