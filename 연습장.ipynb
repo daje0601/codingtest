{
  "nbformat": 4,
  "nbformat_minor": 0,
  "metadata": {
    "colab": {
      "name": "연습장",
      "provenance": [],
      "authorship_tag": "ABX9TyM8IhBRcySJz88p8/WRKGxL",
      "include_colab_link": true
    },
    "kernelspec": {
      "name": "python3",
      "display_name": "Python 3"
    },
    "language_info": {
      "name": "python"
    }
  },
  "cells": [
    {
      "cell_type": "markdown",
      "metadata": {
        "id": "view-in-github",
        "colab_type": "text"
      },
      "source": [
        "<a href=\"https://colab.research.google.com/github/daje0601/codingtest/blob/main/%EC%97%B0%EC%8A%B5%EC%9E%A5.ipynb\" target=\"_parent\"><img src=\"https://colab.research.google.com/assets/colab-badge.svg\" alt=\"Open In Colab\"/></a>"
      ]
    },
    {
      "cell_type": "code",
      "metadata": {
        "id": "w3Y_UxzR036I"
      },
      "source": [
        "def fib(n):\n",
        "    # n번째 피보나치 수를 담는 사전\n",
        "    fib_cache = {}\n",
        "    if n <= 2:\n",
        "        fib_cache[n] = 1\n",
        "        \n",
        "    else:\n",
        "        fib_value = fib(n-1) + fib(n-2)\n",
        "        fib_cache[n] = fib_value\n",
        "\n",
        "    return fib_memo(n, fib_cache)"
      ],
      "execution_count": null,
      "outputs": []
    },
    {
      "cell_type": "code",
      "metadata": {
        "id": "dqULnLCrE9fQ"
      },
      "source": [
        ""
      ],
      "execution_count": null,
      "outputs": []
    },
    {
      "cell_type": "code",
      "metadata": {
        "id": "wddkiiMkAOgG"
      },
      "source": [
        "class Node :\n",
        "  \"\"\"링크드 리스트의 노드 클래스\"\"\"\n",
        "\n",
        "  def __init__(self, data):\n",
        "    self.data = data \n",
        "    self.next = None"
      ],
      "execution_count": null,
      "outputs": []
    },
    {
      "cell_type": "code",
      "metadata": {
        "id": "Ny2hQvxKAaWD"
      },
      "source": [
        "# 노드를 생성 합니다. \n",
        "head_node = Node(2)\n",
        "node_1 = Node(3)\n",
        "node_2 = Node(5)\n",
        "node_3 = Node(7)\n",
        "tail_node = Node(11)"
      ],
      "execution_count": null,
      "outputs": []
    },
    {
      "cell_type": "code",
      "metadata": {
        "id": "q0iDWurGAtKE"
      },
      "source": [
        "# 노드들을 연결해보도록 하겠습니다. \n",
        "\n",
        "head_node.next = node_1\n",
        "node_1.next = node_2\n",
        "node_2.next = node_3\n",
        "node_3.next = tail_node"
      ],
      "execution_count": null,
      "outputs": []
    },
    {
      "cell_type": "code",
      "metadata": {
        "id": "J8qvvQsVArYw",
        "colab": {
          "base_uri": "https://localhost:8080/"
        },
        "outputId": "b390de7e-e4a2-41d5-c2a5-19beb8c805a2"
      },
      "source": [
        "# 노드들을 순서대로 출력하겠습니다. \n",
        "\n",
        "iterator = head_node\n",
        "while iterator is not None:\n",
        "  print(iterator.data)\n",
        "  iterator = iterator.next\n"
      ],
      "execution_count": null,
      "outputs": [
        {
          "output_type": "stream",
          "name": "stdout",
          "text": [
            "2\n",
            "3\n",
            "5\n",
            "7\n",
            "11\n"
          ]
        }
      ]
    },
    {
      "cell_type": "code",
      "metadata": {
        "id": "3YTrjNezAsgG"
      },
      "source": [
        "class LinkedList:\n",
        "  def __init__(self):\n",
        "    self.head = None\n",
        "    self.tail = None \n",
        "\n",
        "\n",
        "\n",
        "  def insert_after(self, previous_node, data):\n",
        "    \"\"\"주어진 링크드 리스트 노드 뒤 삽입 연산 메소드\"\"\"\n",
        "    new_node = Node(data)\n",
        "\n",
        "    # 링크드 리스트 가장 마지막 순서에 삽입할 때 \n",
        "    # previous_node가 self.tail인지를 확인해줄 필요가 있습니다. \n",
        "    if previous_node is self.tail: \n",
        "      self.tail.next = new_node \n",
        "      self.tail = new_node\n",
        "\n",
        "    # 링크드 리스트 중간에 삽입할 때 \n",
        "    # tail이 아니라면 모두 중간에 삽입이 되는 것이기에 else로만 처리해도 무방합니다. \n",
        "    else:\n",
        "      new_node.next = previous_node.next\n",
        "      previous_node.next = new_node # 만약 해당 줄을 먼저 기재를 했다면, 링크드 리스트가 연결이 되지 않습니다. 순서에 유의해야합니다. \n",
        "\n",
        "\n",
        "  def find_node_at(self, index):\n",
        "    iterator = self.head\n",
        "\n",
        "    while iterator is not None:\n",
        "      pass\n",
        "\n",
        "  \n",
        "  def append(self, data):\n",
        "    \"\"\"링크드 리스트 추가 연산 메소드\"\"\"\n",
        "\n",
        "    new_node = Node(data)\n",
        "\n",
        "    # 링크드 리스트가 비어있을 때 -> head가 없는 경우니 head를 만들어주어야 합니다. \n",
        "    if self.head == None:\n",
        "      # 노드가 하나 밖에 없는 경우니까, 머리와 꼬리가 모두 입력받은 new data로 지정이 됩니다. \n",
        "      self.head = new_node\n",
        "      self.tail = new_node\n",
        "\n",
        "    # 링크드 리스트가 비어있지 않을 때 \n",
        "    # 이곳에는 두 가지 작업이 이루어져야 합니다. \n",
        "    # 1) 기존 링크드리스트에 새로운 노드를 추가하고 \n",
        "    # 2) 추가된 노드를 tail 노드로 지정을 해주어야 합니다. \n",
        "    else:\n",
        "      self.tail.next = new_node\n",
        "      self.tail = new_node\n",
        "  \n",
        "\n",
        "  def __str__(self):\n",
        "        \"\"\"링크드 리스트를 문자열로 표현해서 리턴하는 메소드\"\"\"\n",
        "        res_str = \"|\"\n",
        "\n",
        "        # 링크드  리스트 안에 모든 노드를 돌기 위한 변수. 일단 가장 앞 노드로 정의한다.\n",
        "        iterator = self.head\n",
        "\n",
        "        # 링크드  리스트 끝까지 돈다\n",
        "        while iterator is not None:\n",
        "            # 각 노드의 데이터를 리턴하는 문자열에 더해준다\n",
        "            res_str += f\" {iterator.data} |\"\n",
        "            iterator = iterator.next  # 다음 노드로 넘어간다\n",
        "\n",
        "        return res_str"
      ],
      "execution_count": null,
      "outputs": []
    },
    {
      "cell_type": "code",
      "metadata": {
        "id": "Pb6rStCjDY2r"
      },
      "source": [
        ""
      ],
      "execution_count": null,
      "outputs": []
    },
    {
      "cell_type": "code",
      "metadata": {
        "id": "qDzYR_XIEnTF"
      },
      "source": [
        "# 새로운 링크드 리스트 생성 \n",
        "my_list = LinkedList()\n",
        "\n",
        "# 링크드 리스트에 데이터 추가 \n",
        "my_list.append(2)\n",
        "my_list.append(3)\n",
        "my_list.append(5)\n",
        "my_list.append(7)\n",
        "my_list.append(11)"
      ],
      "execution_count": null,
      "outputs": []
    },
    {
      "cell_type": "code",
      "metadata": {
        "id": "qO2Z-pBRE76B",
        "colab": {
          "base_uri": "https://localhost:8080/"
        },
        "outputId": "00fe797a-cb49-445b-cf87-71db7be46e45"
      },
      "source": [
        "iterator = my_list.head\n",
        "while iterator is not None:\n",
        "  print(iterator.data)\n",
        "  iterator = iterator.next\n"
      ],
      "execution_count": null,
      "outputs": [
        {
          "output_type": "stream",
          "name": "stdout",
          "text": [
            "2\n",
            "3\n",
            "5\n",
            "7\n",
            "11\n"
          ]
        }
      ]
    },
    {
      "cell_type": "code",
      "metadata": {
        "id": "4C6UGTUHVGOr"
      },
      "source": [
        "nums = [-1, 0, 1, 2, -1, -4]\n",
        "# nums = [0]\n",
        "# [[-1,-1,2],[-1,0,1]]"
      ],
      "execution_count": 8,
      "outputs": []
    },
    {
      "cell_type": "code",
      "metadata": {
        "id": "fQgxNaKfVhJS"
      },
      "source": [
        "from scipy.special import comb\n",
        "\n",
        "\n",
        "def threeSum(nums):\n",
        "    answer = []\n",
        "    nums.sort()\n",
        "\n",
        "    # 두번째, 세번째 숫자가 와야하므로 -2를 해줌 \n",
        "    for i in range(len(nums)-2):\n",
        "\n",
        "        # i가 1 일 때 0번째와 같다면 넘어갈 수 있도록 예외처리를 해줌\n",
        "        # 나는 참 아이러니한게 i가 2일 때 0이랑 같은지는 확인을 못하는데 괜찮은 건가?\n",
        "        # 왜 바로 전에 숫자와만 비교를 해서 안같다면 괜찮은거지? 정렬을 했기 때문이다! \n",
        "        if i > 0 and nums[i] == nums[i-1]:\n",
        "            continue\n",
        "        \n",
        "        # i를 기준으로 left와 right를 구하고 그 친구들을 쭉쭉 더해오는 식으로 코드를 구상해보았다. \n",
        "        # 처음에는 순열조합을 만들어서 적용을 해보았으나, 시간복잡도가 너무 높아져서 코드가 통과가 되지 않았다. \n",
        "        left, right = i+1, len(nums)-1\n",
        "\n",
        "        # 당연히 left가 right를 넘어갈 수 있으므로 그 전까지만 반복해서 코드가 작동될 수 있도록 한다.  \n",
        "        while left < right :\n",
        "            sum = nums[i]+nums[left]+nums[right]\n",
        "            \n",
        "            # 정렬을 해 놓았기 때문에 sum이 0보다 작으면 left를 한칸 앞으로 이동하고 \n",
        "            if sum < 0 :\n",
        "                left += 1\n",
        "            # 0보다 크면 뒤로 한칸 이동하게 한다. \n",
        "            elif sum > 0 :\n",
        "                right -= 1\n",
        "            # 0일때는 answer에 넣어주고, left와 right를 동시에 움직이게 한다. \n",
        "            # 단, 중복된 값이 있을 수 있으므로 left와 right에 예외처리를 해줘야 한다. \n",
        "            else:\n",
        "                answer.append([nums[i], nums[left], nums[right]])\n",
        "                while left < right and nums[left] == nums[left+1]:\n",
        "                    left +=1\n",
        "                while left < right and nums[right] == nums[right-1]:\n",
        "                    right -= 1\n",
        "                left += 1\n",
        "                right -= 1\n",
        "                \n",
        "    return answer"
      ],
      "execution_count": 13,
      "outputs": []
    },
    {
      "cell_type": "code",
      "metadata": {
        "colab": {
          "base_uri": "https://localhost:8080/"
        },
        "id": "Cl4y2lpJXXln",
        "outputId": "a1f1a4a8-3862-492c-b3ca-918c0223717b"
      },
      "source": [
        "threeSum(nums)"
      ],
      "execution_count": 14,
      "outputs": [
        {
          "output_type": "execute_result",
          "data": {
            "text/plain": [
              "[[-1, -1, 2], [-1, 0, 1]]"
            ]
          },
          "metadata": {},
          "execution_count": 14
        }
      ]
    },
    {
      "cell_type": "code",
      "metadata": {
        "colab": {
          "base_uri": "https://localhost:8080/",
          "height": 170
        },
        "id": "jCvF6mlMXwBJ",
        "outputId": "ab71d7f6-78f3-400b-801b-c39280d61644"
      },
      "source": [
        "nums[6]"
      ],
      "execution_count": 96,
      "outputs": [
        {
          "output_type": "error",
          "ename": "IndexError",
          "evalue": "ignored",
          "traceback": [
            "\u001b[0;31m---------------------------------------------------------------------------\u001b[0m",
            "\u001b[0;31mIndexError\u001b[0m                                Traceback (most recent call last)",
            "\u001b[0;32m<ipython-input-96-734841ecc658>\u001b[0m in \u001b[0;36m<module>\u001b[0;34m()\u001b[0m\n\u001b[0;32m----> 1\u001b[0;31m \u001b[0mnums\u001b[0m\u001b[0;34m[\u001b[0m\u001b[0;36m6\u001b[0m\u001b[0;34m]\u001b[0m\u001b[0;34m\u001b[0m\u001b[0;34m\u001b[0m\u001b[0m\n\u001b[0m",
            "\u001b[0;31mIndexError\u001b[0m: list index out of range"
          ]
        }
      ]
    },
    {
      "cell_type": "code",
      "metadata": {
        "colab": {
          "base_uri": "https://localhost:8080/"
        },
        "id": "EEVjWjEsY7Ml",
        "outputId": "c4446655-a0f9-4857-a19d-58f0876feaff"
      },
      "source": [
        "random.sample(range(len(nums)), 3)"
      ],
      "execution_count": 39,
      "outputs": [
        {
          "output_type": "execute_result",
          "data": {
            "text/plain": [
              "[4, 0, 5]"
            ]
          },
          "metadata": {},
          "execution_count": 39
        }
      ]
    },
    {
      "cell_type": "code",
      "metadata": {
        "colab": {
          "base_uri": "https://localhost:8080/"
        },
        "id": "NMvy0F0nfDav",
        "outputId": "c30f1846-efeb-4c7d-f224-7ae104220eab"
      },
      "source": [
        "from itertools import combinations\n",
        "\n",
        "for g in range(len(list(combinations(range(len(nums)), 3)))):\n",
        "\n",
        "  i, j, k = list(combinations(range(len(nums)), 3))[g]\n",
        "  print(i, j, k)"
      ],
      "execution_count": 70,
      "outputs": [
        {
          "output_type": "stream",
          "name": "stdout",
          "text": [
            "0 1 2\n",
            "0 1 3\n",
            "0 1 4\n",
            "0 1 5\n",
            "0 2 3\n",
            "0 2 4\n",
            "0 2 5\n",
            "0 3 4\n",
            "0 3 5\n",
            "0 4 5\n",
            "1 2 3\n",
            "1 2 4\n",
            "1 2 5\n",
            "1 3 4\n",
            "1 3 5\n",
            "1 4 5\n",
            "2 3 4\n",
            "2 3 5\n",
            "2 4 5\n",
            "3 4 5\n"
          ]
        }
      ]
    },
    {
      "cell_type": "code",
      "metadata": {
        "colab": {
          "base_uri": "https://localhost:8080/",
          "height": 187
        },
        "id": "35ID3CAhaD7w",
        "outputId": "10d2c298-6eab-421a-e4ff-314f9bb48e5a"
      },
      "source": [
        "i, j, k = (combinations(range(len(nums)), 3))\n",
        "\n"
      ],
      "execution_count": 66,
      "outputs": [
        {
          "output_type": "error",
          "ename": "ValueError",
          "evalue": "ignored",
          "traceback": [
            "\u001b[0;31m---------------------------------------------------------------------------\u001b[0m",
            "\u001b[0;31mValueError\u001b[0m                                Traceback (most recent call last)",
            "\u001b[0;32m<ipython-input-66-f5523d7a779e>\u001b[0m in \u001b[0;36m<module>\u001b[0;34m()\u001b[0m\n\u001b[0;32m----> 1\u001b[0;31m \u001b[0mi\u001b[0m\u001b[0;34m,\u001b[0m \u001b[0mj\u001b[0m\u001b[0;34m,\u001b[0m \u001b[0mk\u001b[0m \u001b[0;34m=\u001b[0m \u001b[0;34m(\u001b[0m\u001b[0mcombinations\u001b[0m\u001b[0;34m(\u001b[0m\u001b[0mrange\u001b[0m\u001b[0;34m(\u001b[0m\u001b[0mlen\u001b[0m\u001b[0;34m(\u001b[0m\u001b[0mnums\u001b[0m\u001b[0;34m)\u001b[0m\u001b[0;34m)\u001b[0m\u001b[0;34m,\u001b[0m \u001b[0;36m3\u001b[0m\u001b[0;34m)\u001b[0m\u001b[0;34m)\u001b[0m\u001b[0;34m\u001b[0m\u001b[0;34m\u001b[0m\u001b[0m\n\u001b[0m\u001b[1;32m      2\u001b[0m \u001b[0;34m\u001b[0m\u001b[0m\n",
            "\u001b[0;31mValueError\u001b[0m: too many values to unpack (expected 3)"
          ]
        }
      ]
    },
    {
      "cell_type": "code",
      "metadata": {
        "id": "DYa-IwEwfZ0N"
      },
      "source": [
        ""
      ],
      "execution_count": null,
      "outputs": []
    }
  ]
}