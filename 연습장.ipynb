{
  "nbformat": 4,
  "nbformat_minor": 0,
  "metadata": {
    "colab": {
      "name": "연습장",
      "provenance": [],
      "authorship_tag": "ABX9TyPB7Di0A1YA3Zg+jMamnKCX",
      "include_colab_link": true
    },
    "kernelspec": {
      "name": "python3",
      "display_name": "Python 3"
    },
    "language_info": {
      "name": "python"
    }
  },
  "cells": [
    {
      "cell_type": "markdown",
      "metadata": {
        "id": "view-in-github",
        "colab_type": "text"
      },
      "source": [
        "<a href=\"https://colab.research.google.com/github/daje0601/codingtest/blob/main/%EC%97%B0%EC%8A%B5%EC%9E%A5.ipynb\" target=\"_parent\"><img src=\"https://colab.research.google.com/assets/colab-badge.svg\" alt=\"Open In Colab\"/></a>"
      ]
    },
    {
      "cell_type": "code",
      "metadata": {
        "id": "w3Y_UxzR036I"
      },
      "source": [
        "def fib(n):\n",
        "    # n번째 피보나치 수를 담는 사전\n",
        "    fib_cache = {}\n",
        "    if n <= 2:\n",
        "        fib_cache[n] = 1\n",
        "        \n",
        "    else:\n",
        "        fib_value = fib(n-1) + fib(n-2)\n",
        "        fib_cache[n] = fib_value\n",
        "\n",
        "    return fib_memo(n, fib_cache)"
      ],
      "execution_count": null,
      "outputs": []
    },
    {
      "cell_type": "code",
      "metadata": {
        "id": "dqULnLCrE9fQ"
      },
      "source": [
        ""
      ],
      "execution_count": null,
      "outputs": []
    },
    {
      "cell_type": "code",
      "metadata": {
        "id": "wddkiiMkAOgG",
        "colab": {
          "base_uri": "https://localhost:8080/"
        },
        "outputId": "4046729d-2d46-45ea-cd3e-278ab1025ce1"
      },
      "source": [
        "class Node :\n",
        "  \"\"\"링크드 리스트의 노드 클래스\"\"\"\n",
        "\n",
        "  def __init__(self, data):\n",
        "    self.data = data \n",
        "    self.next = None"
      ],
      "execution_count": null,
      "outputs": [
        {
          "output_type": "execute_result",
          "data": {
            "text/plain": [
              "<__main__.Node at 0x7fbae612de90>"
            ]
          },
          "metadata": {},
          "execution_count": 1
        }
      ]
    },
    {
      "cell_type": "code",
      "metadata": {
        "id": "Ny2hQvxKAaWD"
      },
      "source": [
        "# 노드를 생성 합니다. \n",
        "head_node = Node(2)\n",
        "node_1 = Node(3)\n",
        "node_2 = Node(5)\n",
        "node_3 = Node(7)\n",
        "tail_node = Node(11)"
      ],
      "execution_count": null,
      "outputs": []
    },
    {
      "cell_type": "code",
      "metadata": {
        "id": "q0iDWurGAtKE"
      },
      "source": [
        "# 노드들을 연결해보도록 하겠습니다. \n",
        "\n",
        "head_node.next = node_1\n",
        "node_1.next = node_2\n",
        "node_2.next = node_3\n",
        "node_3.next = tail_node"
      ],
      "execution_count": null,
      "outputs": []
    },
    {
      "cell_type": "code",
      "metadata": {
        "id": "J8qvvQsVArYw",
        "colab": {
          "base_uri": "https://localhost:8080/"
        },
        "outputId": "6b08c615-d14e-4c4f-e1da-7177d05d429c"
      },
      "source": [
        "# 노드들을 순서대로 출력하겠습니다. \n",
        "\n",
        "iterator = head_node\n",
        "while iterator is not None:\n",
        "  print(iterator.data)\n",
        "  iterator = iterator.next\n"
      ],
      "execution_count": null,
      "outputs": [
        {
          "output_type": "stream",
          "name": "stdout",
          "text": [
            "2\n",
            "3\n",
            "5\n",
            "7\n",
            "11\n"
          ]
        }
      ]
    },
    {
      "cell_type": "code",
      "metadata": {
        "id": "3YTrjNezAsgG"
      },
      "source": [
        "class LinkedList:\n",
        "  def __init__(self):\n",
        "    self.head = None\n",
        "    self.tail = None \n",
        "  \n",
        "  def append(self, data):\n",
        "    \"\"\"링크드 리스트 추가 연산 메소드\"\"\"\n",
        "\n",
        "    new_node = Node(data)\n",
        "\n",
        "    # 링크드 리스트가 비어있을 때 -> head가 없는 경우니 head를 만들어주어야 합니다. \n",
        "    if self.head == None:\n",
        "      # 노드가 하나 밖에 없는 경우니까, 머리와 꼬리가 모두 입력받은 new data로 지정이 됩니다. \n",
        "      self.head = new_node\n",
        "      self.tail = new_node\n",
        "\n",
        "    # 링크드 리스트가 비어있지 않을 때 \n",
        "    # 이곳에는 두 가지 작업이 이루어져야 합니다. \n",
        "    # 1) 기존 링크드리스트에 새로운 노드를 추가하고 \n",
        "    # 2) 추가된 노드를 tail 노드로 지정을 해주어야 합니다. \n",
        "    else:\n",
        "      self.tail.next = new_node\n",
        "      self.tail = new_node\n",
        "  \n",
        "\n",
        "  def __str__(self):\n",
        "        \"\"\"링크드 리스트를 문자열로 표현해서 리턴하는 메소드\"\"\"\n",
        "        res_str = \"|\"\n",
        "\n",
        "        # 링크드  리스트 안에 모든 노드를 돌기 위한 변수. 일단 가장 앞 노드로 정의한다.\n",
        "        iterator = self.head\n",
        "\n",
        "        # 링크드  리스트 끝까지 돈다\n",
        "        while iterator is not None:\n",
        "            # 각 노드의 데이터를 리턴하는 문자열에 더해준다\n",
        "            res_str += f\" {iterator.data} |\"\n",
        "            iterator = iterator.next  # 다음 노드로 넘어간다\n",
        "\n",
        "        return res_str"
      ],
      "execution_count": null,
      "outputs": []
    },
    {
      "cell_type": "code",
      "metadata": {
        "id": "Pb6rStCjDY2r"
      },
      "source": [
        ""
      ],
      "execution_count": null,
      "outputs": []
    },
    {
      "cell_type": "code",
      "metadata": {
        "id": "qDzYR_XIEnTF"
      },
      "source": [
        "# 새로운 링크드 리스트 생성 \n",
        "my_list = LinkedList()\n",
        "\n",
        "# 링크드 리스트에 데이터 추가 \n",
        "my_list.append(2)\n",
        "my_list.append(3)\n",
        "my_list.append(5)\n",
        "my_list.append(7)\n",
        "my_list.append(11)"
      ],
      "execution_count": null,
      "outputs": []
    },
    {
      "cell_type": "code",
      "metadata": {
        "id": "qO2Z-pBRE76B",
        "colab": {
          "base_uri": "https://localhost:8080/"
        },
        "outputId": "8c0ab310-f024-42ab-a00a-74571e857ea0"
      },
      "source": [
        "iterator = my_list.head\n",
        "while iterator is not None:\n",
        "  print(iterator.data)\n",
        "  iterator = iterator.next\n"
      ],
      "execution_count": null,
      "outputs": [
        {
          "output_type": "stream",
          "name": "stdout",
          "text": [
            "2\n",
            "3\n",
            "5\n",
            "7\n",
            "11\n"
          ]
        }
      ]
    }
  ]
}