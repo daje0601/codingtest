{
  "nbformat": 4,
  "nbformat_minor": 0,
  "metadata": {
    "colab": {
      "name": "연습장",
      "provenance": [],
      "authorship_tag": "ABX9TyP+Xy3XsR5cpmudVZnZUnsK",
      "include_colab_link": true
    },
    "kernelspec": {
      "name": "python3",
      "display_name": "Python 3"
    },
    "language_info": {
      "name": "python"
    }
  },
  "cells": [
    {
      "cell_type": "markdown",
      "metadata": {
        "id": "view-in-github",
        "colab_type": "text"
      },
      "source": [
        "<a href=\"https://colab.research.google.com/github/daje0601/codingtest/blob/main/%EC%97%B0%EC%8A%B5%EC%9E%A5.ipynb\" target=\"_parent\"><img src=\"https://colab.research.google.com/assets/colab-badge.svg\" alt=\"Open In Colab\"/></a>"
      ]
    },
    {
      "cell_type": "code",
      "metadata": {
        "id": "w3Y_UxzR036I"
      },
      "source": [
        "def fib(n):\n",
        "    # n번째 피보나치 수를 담는 사전\n",
        "    fib_cache = {}\n",
        "    if n <= 2:\n",
        "        fib_cache[n] = 1\n",
        "        \n",
        "    else:\n",
        "        fib_value = fib(n-1) + fib(n-2)\n",
        "        fib_cache[n] = fib_value\n",
        "\n",
        "    return fib_memo(n, fib_cache)"
      ],
      "execution_count": null,
      "outputs": []
    }
  ]
}